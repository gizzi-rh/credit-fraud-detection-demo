{
 "cells": [
  {
   "cell_type": "markdown",
   "metadata": {
    "tags": []
   },
   "source": [
    "# Credit Card Fraud Detection\n",
    "### Based on the Kaggle [Fraud Detection Data](https://www.kaggle.com/code/zwhjorth/dnn-svm-and-dt-for-fraud-detection)"
   ]
  },
  {
   "cell_type": "code",
   "execution_count": null,
   "metadata": {},
   "outputs": [],
   "source": [
    "# Install all requirements needed to train this model and track it in MLFlow.\n",
    "!pip install pip -qU\n",
    "!pip install -r requirements.txt -q"
   ]
  },
  {
   "cell_type": "code",
   "execution_count": null,
   "metadata": {},
   "outputs": [],
   "source": [
    "# Import the dependencies we need to run the code.\n",
    "\n",
    "import os\n",
    "import numpy as np\n",
    "import pandas as pd\n",
    "from keras.models import Sequential\n",
    "from keras.layers import Dense, Dropout, BatchNormalization, Activation\n",
    "from sklearn.model_selection import train_test_split\n",
    "from sklearn.preprocessing import StandardScaler\n",
    "from sklearn.utils import class_weight\n",
    "from sklearn.metrics import confusion_matrix\n",
    "from matplotlib import pyplot as plt\n",
    "import seaborn as sns\n",
    "import tf2onnx\n",
    "import mlflow\n",
    "from sklearn.linear_model import LogisticRegression\n",
    "import keras"
   ]
  },
  {
   "cell_type": "markdown",
   "metadata": {},
   "source": [
    "### Train the model, plot the confusion matrix and push the artifacts to MLFlow."
   ]
  },
  {
   "cell_type": "code",
   "execution_count": null,
   "metadata": {},
   "outputs": [],
   "source": [
    "# Train the model.\n",
    "# We wrap the training with an mlflow wrapper to signify that this is an experiment run.\n",
    "# We also define a few more metrics at the very bottom to track the confusion matrix in MLFlow.\n",
    "\n",
    "with mlflow.start_run():\n",
    "    epochs = 2\n",
    "    history = model.fit(X_train, y_train, epochs=epochs, \\\n",
    "                        validation_data=(scaler.transform(X_val),y_val), \\\n",
    "                        verbose = True, class_weight = class_weights)\n",
    "\n",
    "    y_pred_temp = model.predict(scaler.transform(X_test)) \n",
    "\n",
    "    threshold = 0.995\n",
    "\n",
    "    y_pred = np.where(y_pred_temp > threshold, 1,0)\n",
    "    c_matrix = confusion_matrix(y_test,y_pred)\n",
    "    ax = sns.heatmap(c_matrix, annot=True, cbar=False, cmap='Blues')\n",
    "    ax.set_xlabel(\"Prediction\")\n",
    "    ax.set_ylabel(\"Actual\")\n",
    "    ax.set_title('Confusion Matrix')\n",
    "    plt.show()\n",
    "\n",
    "    t_n, f_p, f_n, t_p = c_matrix.ravel()\n",
    "    mlflow.log_metric(\"tn\", t_n)\n",
    "    mlflow.log_metric(\"fp\", f_p)\n",
    "    mlflow.log_metric(\"fn\", f_n)\n",
    "    mlflow.log_metric(\"tp\", t_p)\n",
    "\n",
    "    model_proto,_ = tf2onnx.convert.from_keras(model)\n",
    "    mlflow.onnx.log_model(model_proto, \"models\")\n",
    "    "
   ]
  },
  {
   "cell_type": "markdown",
   "metadata": {
    "tags": []
   },
   "source": [
    "### Save the model locally in ONNX format"
   ]
  },
  {
   "cell_type": "code",
   "execution_count": null,
   "metadata": {},
   "outputs": [],
   "source": [
    "import onnx\n",
    "onnx.save(model_proto, \"fraud.onnx\")"
   ]
  }
 ],
 "metadata": {
  "kernelspec": {
   "display_name": "Python 3.9",
   "language": "python",
   "name": "python3"
  },
  "language_info": {
   "codemirror_mode": {
    "name": "ipython",
    "version": 3
   },
   "file_extension": ".py",
   "mimetype": "text/x-python",
   "name": "python",
   "nbconvert_exporter": "python",
   "pygments_lexer": "ipython3",
   "version": "3.9.16"
  },
  "vscode": {
   "interpreter": {
    "hash": "1634c0bc43905e7916bfdb805d9fa90ddc101c0f948f75bff344e1199ec8d02f"
   }
  }
 },
 "nbformat": 4,
 "nbformat_minor": 4
}
